{
  "nbformat": 4,
  "nbformat_minor": 0,
  "metadata": {
    "colab": {
      "provenance": [],
      "include_colab_link": true
    },
    "kernelspec": {
      "name": "python3",
      "display_name": "Python 3"
    },
    "language_info": {
      "name": "python"
    }
  },
  "cells": [
    {
      "cell_type": "markdown",
      "metadata": {
        "id": "view-in-github",
        "colab_type": "text"
      },
      "source": [
        "<a href=\"https://colab.research.google.com/github/annabellarinaldi/HMMWeatherModel/blob/main/Modeling_Weather_with_HMMs.ipynb\" target=\"_parent\"><img src=\"https://colab.research.google.com/assets/colab-badge.svg\" alt=\"Open In Colab\"/></a>"
      ]
    },
    {
      "cell_type": "code",
      "execution_count": null,
      "metadata": {
        "id": "zUn0tMKzVVCS"
      },
      "outputs": [],
      "source": [
        "import math\n",
        "outputs = [0, 0, 2, 2, 1] # X_1 .. X_N\n",
        "transition_prob = [[0.55, 0.25, 0.2],\\\n",
        "                   [0.15, 0.7, 0.15],\\\n",
        "                   [0.2, 0.3, 0.4]]\n",
        "emission_prob = [[0.1, 0.3, 0.6],\\\n",
        "                 [0.2, 0.5, 0.3],\\\n",
        "                 [0.6, 0.3, 0.1]]\n",
        "start_prob = [0.3, 0.3, 0.4]"
      ]
    },
    {
      "cell_type": "code",
      "source": [
        "import math\n",
        "\n",
        "class HMM:\n",
        "  def __init__(self, transition_prob: list[list[int]], emission_prob: list[list[int]], start: list[int]):\n",
        "    # P(Y_(t+1) | Y_t)\n",
        "    self.transition_prob = transition_prob\n",
        "\n",
        "    # P(X_t | Y_t)\n",
        "    self.emission_prob = emission_prob\n",
        "\n",
        "    self.start = start\n",
        "\n",
        "  def joint_prob(self, outputs: list[int], hiddens: list[int]) -> list[float]:\n",
        "    prob = self.start[hiddens[0]] * self.emission_prob[hiddens[0]][outputs[0]]\n",
        "    for i in range(1, len(hiddens)):\n",
        "      prev_y = hiddens[i - 1]\n",
        "      curr_y = hiddens[i]\n",
        "      x = outputs[i]\n",
        "      prob *= self.transition_prob[prev_y][curr_y] * self.emission_prob[curr_y][x]\n",
        "    return prob\n",
        "\n",
        "  def conditional_weights(self, outputs: list[int], hiddens: list[int], t: int) -> float:\n",
        "    weights = []\n",
        "    for y in [0, 1, 2]:\n",
        "      weight = self.emission_prob[y][outputs[t]]\n",
        "      if t == 0:\n",
        "        weight *= self.start[y]\n",
        "      else:\n",
        "        weight *= self.transition_prob[hiddens[t - 1]][y]\n",
        "      if t < len(hiddens) - 1:\n",
        "        weight *= self.transition_prob[y][hiddens[t + 1]]\n",
        "      weights.append(weight)\n",
        "    return weights"
      ],
      "metadata": {
        "id": "AbSSWyHioPr6"
      },
      "execution_count": null,
      "outputs": []
    },
    {
      "cell_type": "code",
      "source": [
        "hmm = HMM(transition_prob, emission_prob, start_prob)"
      ],
      "metadata": {
        "id": "JyodvskCFXYL"
      },
      "execution_count": null,
      "outputs": []
    },
    {
      "cell_type": "code",
      "source": [
        "# Test cases\n",
        "print(hmm.joint_prob([0,0,2,2,1], [1,1,1,1,1]))\n",
        "# about 0.000129654\n",
        "print(hmm.joint_prob([0,0,2,2,1], [2,2,0,0,1]))\n",
        "# 0.00028512"
      ],
      "metadata": {
        "id": "XqAkOs3fFKpU",
        "colab": {
          "base_uri": "https://localhost:8080/"
        },
        "outputId": "54e6d992-9870-4e42-bccb-92fa48760e7e"
      },
      "execution_count": null,
      "outputs": [
        {
          "output_type": "stream",
          "name": "stdout",
          "text": [
            "0.00012965399999999996\n",
            "0.00028512\n"
          ]
        }
      ]
    },
    {
      "cell_type": "code",
      "source": [
        "import itertools\n",
        "\n",
        "def get_most_likely_hidden_states(hmm: HMM, outputs: list[int]):\n",
        "  joint_probs = {}\n",
        "  total_joint_prob = 0.0\n",
        "\n",
        "  # iterate over possible hidden states\n",
        "  for hiddens in itertools.product([0,1,2],repeat=5):\n",
        "    hiddens = list(hiddens) # convert to list\n",
        "    jp = hmm.joint_prob(outputs, hiddens)\n",
        "    joint_probs[tuple(hiddens)] = jp\n",
        "    total_joint_prob += jp\n",
        "  cond_probs = {\n",
        "        seq: joint / total_joint_prob for seq, joint in joint_probs.items()\n",
        "  }\n",
        "  top_10 = sorted(cond_probs.items(), key=lambda x: x[1], reverse=True)[:10]\n",
        "  return top_10\n"
      ],
      "metadata": {
        "id": "HAZllJMwpARK"
      },
      "execution_count": null,
      "outputs": []
    },
    {
      "cell_type": "code",
      "source": [
        "get_most_likely_hidden_states(hmm, outputs)"
      ],
      "metadata": {
        "id": "juB1P-wNl3DA",
        "colab": {
          "base_uri": "https://localhost:8080/"
        },
        "outputId": "ffe8a9b4-fcf6-40be-c051-e0867a4adcd9"
      },
      "execution_count": null,
      "outputs": [
        {
          "output_type": "execute_result",
          "data": {
            "text/plain": [
              "[((2, 2, 1, 1, 1), 0.10142053368734852),\n",
              " ((2, 2, 0, 0, 0), 0.10017864960138101),\n",
              " ((2, 2, 0, 0, 1), 0.07589291636468258),\n",
              " ((2, 1, 1, 1, 1), 0.059161977984286636),\n",
              " ((2, 2, 0, 1, 1), 0.048295492232070726),\n",
              " ((2, 2, 0, 0, 2), 0.036428599855047636),\n",
              " ((1, 1, 1, 1, 1), 0.0345111538241672),\n",
              " ((2, 0, 0, 0, 0), 0.022957607200316487),\n",
              " ((2, 2, 1, 0, 0), 0.020491087418464293),\n",
              " ((2, 2, 2, 1, 1), 0.019318196892828297)]"
            ]
          },
          "metadata": {},
          "execution_count": 7
        }
      ]
    },
    {
      "cell_type": "markdown",
      "source": [
        "# Gibbs Sampling"
      ],
      "metadata": {
        "id": "dvG5mecznEvB"
      }
    },
    {
      "cell_type": "code",
      "source": [
        "# Test cases\n",
        "print(hmm.conditional_weights([0,0,2,2,1], [1,1,1,1,1], 2))\n",
        "# about [0.0225, 0.147, 0.0045]\n",
        "print(hmm.conditional_weights([0,0,2,2,1], [2,2,0,0,1], 2))\n",
        "# about [0.066, 0.0135, 0.00800000000000000]"
      ],
      "metadata": {
        "id": "mlfz3KvGuis2",
        "outputId": "24aea6fe-b477-491c-a21a-4459b0f2f4ba",
        "colab": {
          "base_uri": "https://localhost:8080/"
        }
      },
      "execution_count": null,
      "outputs": [
        {
          "output_type": "stream",
          "name": "stdout",
          "text": [
            "[0.0225, 0.147, 0.0045]\n",
            "[0.066, 0.0135, 0.008000000000000002]\n"
          ]
        }
      ]
    },
    {
      "cell_type": "code",
      "source": [
        "# Perform a single Gibbs sample Y_1 .. Y_N ~ P(Y_1 .. Y_N | X_1 .. X_N)\n",
        "import random\n",
        "\n",
        "def gibbs_sample(hmm: HMM, outputs: list[int]) -> list[list[int]]:\n",
        "  n = len(outputs)\n",
        "  hiddens = [random.choice([0, 1, 2]) for _ in range(n)]\n",
        "\n",
        "  for t in range(n):\n",
        "    weights = hmm.conditional_weights(outputs, hiddens, t)\n",
        "    total = sum(weights)\n",
        "    probs = [w / total for w in weights]\n",
        "    hiddens[t] = random.choices([0, 1, 2], weights=probs, k=1)[0]\n",
        "\n",
        "  return hiddens"
      ],
      "metadata": {
        "id": "i_HeCWOLo0ZV"
      },
      "execution_count": null,
      "outputs": []
    },
    {
      "cell_type": "code",
      "source": [
        "import collections\n",
        "def estimate_likely_hidden_states(hmm: HMM, outputs: list[int]):\n",
        "  sample_counts = {}\n",
        "  num_iterations = 5000\n",
        "  burn_in = 1000\n",
        "\n",
        "  hiddens = [random.choice([0, 1, 2]) for _ in range(len(outputs))]\n",
        "\n",
        "  for _ in range(burn_in):\n",
        "    for t in range(len(outputs)):\n",
        "      weights = hmm.conditional_weights(outputs, hiddens, t)\n",
        "      total = sum(weights)\n",
        "      probs = [w / total for w in weights]\n",
        "      hiddens[t] = random.choices([0, 1, 2], weights=probs, k=1)[0]\n",
        "\n",
        "  for _ in range(num_iterations):\n",
        "    for t in range(len(outputs)):\n",
        "      weights = hmm.conditional_weights(outputs, hiddens, t)\n",
        "      total = sum(weights)\n",
        "      probs = [w / total for w in weights]\n",
        "      hiddens[t] = random.choices([0, 1, 2], weights=probs, k=1)[0]\n",
        "\n",
        "    sample_tuple = tuple(hiddens.copy())\n",
        "    sample_counts[sample_tuple] = sample_counts.get(sample_tuple, 0) + 1\n",
        "\n",
        "  total_samples = sum(sample_counts.values())\n",
        "  estimated_probs = {\n",
        "      seq: count / total_samples for seq, count in sample_counts.items()\n",
        "  }\n",
        "  top_10 = sorted(estimated_probs.items(), key=lambda x: x[1], reverse=True)[:10]\n",
        "  return top_10"
      ],
      "metadata": {
        "id": "0fZEX27glNkN"
      },
      "execution_count": null,
      "outputs": []
    },
    {
      "cell_type": "code",
      "source": [
        "estimate_likely_hidden_states(hmm, outputs)"
      ],
      "metadata": {
        "colab": {
          "base_uri": "https://localhost:8080/"
        },
        "id": "Jib33tKbnjSd",
        "outputId": "8d36f584-6a6f-4946-c433-06e18b0ad793"
      },
      "execution_count": null,
      "outputs": [
        {
          "output_type": "execute_result",
          "data": {
            "text/plain": [
              "[((2, 2, 1, 1, 1), 0.1014),\n",
              " ((2, 2, 0, 0, 0), 0.1008),\n",
              " ((2, 2, 0, 0, 1), 0.0816),\n",
              " ((2, 1, 1, 1, 1), 0.0604),\n",
              " ((2, 2, 0, 1, 1), 0.0468),\n",
              " ((2, 2, 0, 0, 2), 0.0342),\n",
              " ((1, 1, 1, 1, 1), 0.0338),\n",
              " ((2, 0, 0, 0, 0), 0.0286),\n",
              " ((2, 2, 1, 0, 0), 0.0212),\n",
              " ((2, 2, 2, 1, 1), 0.021)]"
            ]
          },
          "metadata": {},
          "execution_count": 12
        }
      ]
    },
    {
      "cell_type": "code",
      "source": [],
      "metadata": {
        "id": "9GITNQ3-qH4F"
      },
      "execution_count": null,
      "outputs": []
    }
  ]
}